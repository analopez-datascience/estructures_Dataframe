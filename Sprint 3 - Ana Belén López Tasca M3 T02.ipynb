{
 "cells": [
  {
   "cell_type": "markdown",
   "id": "b0028921",
   "metadata": {},
   "source": [
    "## EJERCICIO 1\n",
    "\n",
    "Descarrega el data set Airlines Delay: Airline on-time statistics and delay causes i carrega’l a un Pandas Dataframe. Explora les dades que conté, explica breument quines variables hi ha i queda’t únicament amb les columnes que consideris rellevants. Justifica la teva elecció."
   ]
  },
  {
   "cell_type": "code",
   "execution_count": null,
   "id": "0e5a04aa",
   "metadata": {},
   "outputs": [],
   "source": []
  }
 ],
 "metadata": {
  "kernelspec": {
   "display_name": "Python 3 (ipykernel)",
   "language": "python",
   "name": "python3"
  },
  "language_info": {
   "codemirror_mode": {
    "name": "ipython",
    "version": 3
   },
   "file_extension": ".py",
   "mimetype": "text/x-python",
   "name": "python",
   "nbconvert_exporter": "python",
   "pygments_lexer": "ipython3",
   "version": "3.9.12"
  }
 },
 "nbformat": 4,
 "nbformat_minor": 5
}
